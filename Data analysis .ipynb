{
 "cells": [
  {
   "cell_type": "markdown",
   "metadata": {},
   "source": [
    "Stajesz przed nowym zadaniem, nowy product manager poprosił Cię o pomoc w obliczeniu i wizualizacji nowego KPI, który ma\n",
    "pomóc ulepszyć proces dostarczania rezultatów do klienta. Jego definicja to: Ilość zaakceptowanych błędów na godzinę w \n",
    "pierwszych 6-ciu godzinach od rozpoczęcia cyklu testowego. PM przekazał Ci, że dla uproszczenia jako początek cyklu testowego możesz uznać czas pierwszego zgłoszonego błędu. \n",
    "\n",
    "Jeżeli uda Ci się pokazać tą metrykę, PM napewno doceni analizę na tych danych - ponieważ on nie ma na to czasu.\n",
    "\n",
    "Stwórz widok pokazujący powyższą metryke i zaproponuj dodatkowe wykresy z które mogą być przydatne dla Product Manager'a."
   ]
  },
  {
   "cell_type": "code",
   "execution_count": 1,
   "metadata": {},
   "outputs": [],
   "source": [
    "import pandas as pd\n",
    "import seaborn as sns\n",
    "import matplotlib.pyplot as plt \n",
    "import numpy as np"
   ]
  },
  {
   "cell_type": "code",
   "execution_count": 2,
   "metadata": {},
   "outputs": [],
   "source": [
    "data = pd.read_csv('cycle_data.csv')"
   ]
  },
  {
   "cell_type": "code",
   "execution_count": 3,
   "metadata": {},
   "outputs": [
    {
     "data": {
      "text/html": [
       "<div>\n",
       "<style scoped>\n",
       "    .dataframe tbody tr th:only-of-type {\n",
       "        vertical-align: middle;\n",
       "    }\n",
       "\n",
       "    .dataframe tbody tr th {\n",
       "        vertical-align: top;\n",
       "    }\n",
       "\n",
       "    .dataframe thead th {\n",
       "        text-align: right;\n",
       "    }\n",
       "</style>\n",
       "<table border=\"1\" class=\"dataframe\">\n",
       "  <thead>\n",
       "    <tr style=\"text-align: right;\">\n",
       "      <th></th>\n",
       "      <th>issue_code_</th>\n",
       "      <th>created_at</th>\n",
       "      <th>severity</th>\n",
       "      <th>resolution</th>\n",
       "      <th>affected_components</th>\n",
       "      <th>creator_id</th>\n",
       "    </tr>\n",
       "  </thead>\n",
       "  <tbody>\n",
       "    <tr>\n",
       "      <td>61</td>\n",
       "      <td>CYCLE-10-62</td>\n",
       "      <td>13/04/2021 16:45:50</td>\n",
       "      <td>Medium</td>\n",
       "      <td>Confirmed (S)</td>\n",
       "      <td>{Workouts}</td>\n",
       "      <td>6435.0</td>\n",
       "    </tr>\n",
       "    <tr>\n",
       "      <td>80</td>\n",
       "      <td>CYCLE-10-81</td>\n",
       "      <td>13/04/2021 18:46:09</td>\n",
       "      <td>Medium</td>\n",
       "      <td>No tester response</td>\n",
       "      <td>{Profile}</td>\n",
       "      <td>6435.0</td>\n",
       "    </tr>\n",
       "    <tr>\n",
       "      <td>64</td>\n",
       "      <td>CYCLE-10-65</td>\n",
       "      <td>13/04/2021 17:01:19</td>\n",
       "      <td>Medium</td>\n",
       "      <td>Confirmed (S)</td>\n",
       "      <td>{Profile}</td>\n",
       "      <td>5271.0</td>\n",
       "    </tr>\n",
       "    <tr>\n",
       "      <td>73</td>\n",
       "      <td>CYCLE-10-74</td>\n",
       "      <td>13/04/2021 17:28:46</td>\n",
       "      <td>High</td>\n",
       "      <td>Confirmed (S)</td>\n",
       "      <td>{Profile}</td>\n",
       "      <td>8124.0</td>\n",
       "    </tr>\n",
       "    <tr>\n",
       "      <td>38</td>\n",
       "      <td>CYCLE-10-39</td>\n",
       "      <td>13/04/2021 16:17:27</td>\n",
       "      <td>Medium</td>\n",
       "      <td>Confirmed (S)</td>\n",
       "      <td>{Workouts}</td>\n",
       "      <td>4075.0</td>\n",
       "    </tr>\n",
       "    <tr>\n",
       "      <td>98</td>\n",
       "      <td>CYCLE-10-99</td>\n",
       "      <td>13/04/2021 21:59:34</td>\n",
       "      <td>Medium</td>\n",
       "      <td>Confirm (S)</td>\n",
       "      <td>{Workouts}</td>\n",
       "      <td>5271.0</td>\n",
       "    </tr>\n",
       "    <tr>\n",
       "      <td>91</td>\n",
       "      <td>CYCLE-10-92</td>\n",
       "      <td>13/04/2021 20:47:27</td>\n",
       "      <td>Low</td>\n",
       "      <td>Confirmed (S)</td>\n",
       "      <td>{Profile}</td>\n",
       "      <td>6435.0</td>\n",
       "    </tr>\n",
       "    <tr>\n",
       "      <td>23</td>\n",
       "      <td>CYCLE-10-24</td>\n",
       "      <td>13/04/2021 16:00:55</td>\n",
       "      <td>High</td>\n",
       "      <td>Confirmed (S)</td>\n",
       "      <td>{Workouts}</td>\n",
       "      <td>5589.0</td>\n",
       "    </tr>\n",
       "    <tr>\n",
       "      <td>46</td>\n",
       "      <td>CYCLE-10-47</td>\n",
       "      <td>13/04/2021 16:26:02</td>\n",
       "      <td>Critical</td>\n",
       "      <td>Confirmed (S)</td>\n",
       "      <td>{Workouts}</td>\n",
       "      <td>5271.0</td>\n",
       "    </tr>\n",
       "    <tr>\n",
       "      <td>72</td>\n",
       "      <td>CYCLE-10-73</td>\n",
       "      <td>13/04/2021 17:16:32</td>\n",
       "      <td>Low</td>\n",
       "      <td>Not in Scope</td>\n",
       "      <td>{Profile}</td>\n",
       "      <td>1765.0</td>\n",
       "    </tr>\n",
       "  </tbody>\n",
       "</table>\n",
       "</div>"
      ],
      "text/plain": [
       "    issue_code_           created_at  severity          resolution  \\\n",
       "61  CYCLE-10-62  13/04/2021 16:45:50    Medium       Confirmed (S)   \n",
       "80  CYCLE-10-81  13/04/2021 18:46:09    Medium  No tester response   \n",
       "64  CYCLE-10-65  13/04/2021 17:01:19    Medium       Confirmed (S)   \n",
       "73  CYCLE-10-74  13/04/2021 17:28:46      High       Confirmed (S)   \n",
       "38  CYCLE-10-39  13/04/2021 16:17:27    Medium       Confirmed (S)   \n",
       "98  CYCLE-10-99  13/04/2021 21:59:34    Medium         Confirm (S)   \n",
       "91  CYCLE-10-92  13/04/2021 20:47:27       Low       Confirmed (S)   \n",
       "23  CYCLE-10-24  13/04/2021 16:00:55      High       Confirmed (S)   \n",
       "46  CYCLE-10-47  13/04/2021 16:26:02  Critical       Confirmed (S)   \n",
       "72  CYCLE-10-73  13/04/2021 17:16:32       Low        Not in Scope   \n",
       "\n",
       "   affected_components  creator_id  \n",
       "61          {Workouts}      6435.0  \n",
       "80           {Profile}      6435.0  \n",
       "64           {Profile}      5271.0  \n",
       "73           {Profile}      8124.0  \n",
       "38          {Workouts}      4075.0  \n",
       "98          {Workouts}      5271.0  \n",
       "91           {Profile}      6435.0  \n",
       "23          {Workouts}      5589.0  \n",
       "46          {Workouts}      5271.0  \n",
       "72           {Profile}      1765.0  "
      ]
     },
     "execution_count": 3,
     "metadata": {},
     "output_type": "execute_result"
    }
   ],
   "source": [
    "data.sample(10)"
   ]
  },
  {
   "cell_type": "code",
   "execution_count": 4,
   "metadata": {},
   "outputs": [
    {
     "data": {
      "text/plain": [
       "array(['Low', 'High', 'Medium', 'Critical'], dtype=object)"
      ]
     },
     "execution_count": 4,
     "metadata": {},
     "output_type": "execute_result"
    }
   ],
   "source": [
    "data.severity.unique()"
   ]
  },
  {
   "cell_type": "code",
   "execution_count": 5,
   "metadata": {},
   "outputs": [
    {
     "data": {
      "text/plain": [
       "array(['Confirmed (S)', 'Duplicate', 'Expected Behaviour',\n",
       "       'Confirmed (!)', 'Invalid - not tester error', 'Not in Scope',\n",
       "       'No tester response', 'Confirm (S)'], dtype=object)"
      ]
     },
     "execution_count": 5,
     "metadata": {},
     "output_type": "execute_result"
    }
   ],
   "source": [
    "data.resolution.unique()"
   ]
  },
  {
   "cell_type": "code",
   "execution_count": 6,
   "metadata": {},
   "outputs": [
    {
     "data": {
      "text/plain": [
       "array(['{Signup}', '{Profile}', 'Profile', '{Sign-up}', '{Content}',\n",
       "       '{Challenge}', '{Workouts}', '{Settings}', '{Kit}', '{Guides}',\n",
       "       '{Meals}', '{Login}'], dtype=object)"
      ]
     },
     "execution_count": 6,
     "metadata": {},
     "output_type": "execute_result"
    }
   ],
   "source": [
    "data.affected_components.unique()"
   ]
  },
  {
   "cell_type": "code",
   "execution_count": 7,
   "metadata": {},
   "outputs": [
    {
     "data": {
      "text/plain": [
       "array(['Confirmed (S)', 'Duplicate', 'Expected Behaviour',\n",
       "       'Invalid - not tester error', 'Not in Scope', 'No tester response'],\n",
       "      dtype=object)"
      ]
     },
     "execution_count": 7,
     "metadata": {},
     "output_type": "execute_result"
    }
   ],
   "source": [
    "# First step will be to clear the data.\n",
    "# I replace rows where resolution status is 'Confirmed (!)' and 'Confirm (S)' with status 'Confirmed (S)', because it's \n",
    "# the same category \n",
    "\n",
    "data[\"resolution\"].replace({\"Confirmed (!)\": \"Confirmed (S)\", \"Confirm (S)\": \"Confirmed (S)\"}, inplace=True)\n",
    "data.resolution.unique()"
   ]
  },
  {
   "cell_type": "code",
   "execution_count": 8,
   "metadata": {},
   "outputs": [
    {
     "data": {
      "text/plain": [
       "issue_code_            0\n",
       "created_at             1\n",
       "severity               0\n",
       "resolution             0\n",
       "affected_components    0\n",
       "creator_id             1\n",
       "dtype: int64"
      ]
     },
     "execution_count": 8,
     "metadata": {},
     "output_type": "execute_result"
    }
   ],
   "source": [
    "data.isnull().sum()"
   ]
  },
  {
   "cell_type": "code",
   "execution_count": 9,
   "metadata": {},
   "outputs": [
    {
     "data": {
      "text/plain": [
       "0"
      ]
     },
     "execution_count": 9,
     "metadata": {},
     "output_type": "execute_result"
    }
   ],
   "source": [
    "# Drop rows where NaN is in 'created_at' column, because we need this data to check if error was created within first \n",
    "# 6 hours of testing cycle.\n",
    "\n",
    "data.dropna(subset=['created_at'], inplace=True)\n",
    "data['created_at'].isnull().sum()"
   ]
  },
  {
   "cell_type": "code",
   "execution_count": 10,
   "metadata": {},
   "outputs": [
    {
     "data": {
      "text/plain": [
       "str"
      ]
     },
     "execution_count": 10,
     "metadata": {},
     "output_type": "execute_result"
    }
   ],
   "source": [
    "type(data['created_at'][0])"
   ]
  },
  {
   "cell_type": "code",
   "execution_count": 11,
   "metadata": {},
   "outputs": [
    {
     "data": {
      "text/html": [
       "<div>\n",
       "<style scoped>\n",
       "    .dataframe tbody tr th:only-of-type {\n",
       "        vertical-align: middle;\n",
       "    }\n",
       "\n",
       "    .dataframe tbody tr th {\n",
       "        vertical-align: top;\n",
       "    }\n",
       "\n",
       "    .dataframe thead th {\n",
       "        text-align: right;\n",
       "    }\n",
       "</style>\n",
       "<table border=\"1\" class=\"dataframe\">\n",
       "  <thead>\n",
       "    <tr style=\"text-align: right;\">\n",
       "      <th></th>\n",
       "      <th>issue_code_</th>\n",
       "      <th>created_at</th>\n",
       "      <th>severity</th>\n",
       "      <th>resolution</th>\n",
       "      <th>affected_components</th>\n",
       "      <th>creator_id</th>\n",
       "    </tr>\n",
       "  </thead>\n",
       "  <tbody>\n",
       "    <tr>\n",
       "      <td>44</td>\n",
       "      <td>CYCLE-10-45</td>\n",
       "      <td>04/13/2021 16:25:40</td>\n",
       "      <td>High</td>\n",
       "      <td>Confirmed (S)</td>\n",
       "      <td>{Workouts}</td>\n",
       "      <td>4693.0</td>\n",
       "    </tr>\n",
       "  </tbody>\n",
       "</table>\n",
       "</div>"
      ],
      "text/plain": [
       "    issue_code_           created_at severity     resolution  \\\n",
       "44  CYCLE-10-45  04/13/2021 16:25:40     High  Confirmed (S)   \n",
       "\n",
       "   affected_components  creator_id  \n",
       "44          {Workouts}      4693.0  "
      ]
     },
     "execution_count": 11,
     "metadata": {},
     "output_type": "execute_result"
    }
   ],
   "source": [
    "# I want to change data type in column \"created_at\" to datetime \n",
    "# There is an error appearing because of wrong format in one row, so I'm going to change this\n",
    "\n",
    "data[data['created_at'] == '04/13/2021 16:25:40']"
   ]
  },
  {
   "cell_type": "code",
   "execution_count": 12,
   "metadata": {},
   "outputs": [
    {
     "data": {
      "text/plain": [
       "'13/04/2021 16:25:40'"
      ]
     },
     "execution_count": 12,
     "metadata": {},
     "output_type": "execute_result"
    }
   ],
   "source": [
    "data.at[44, 'created_at'] = '13/04/2021 16:25:40'\n",
    "data.loc[44, 'created_at']"
   ]
  },
  {
   "cell_type": "code",
   "execution_count": 13,
   "metadata": {},
   "outputs": [],
   "source": [
    "# Change format \n",
    "data['created_at'] = pd.to_datetime(data['created_at'], format='%d/%m/%Y %H:%M:%S')"
   ]
  },
  {
   "cell_type": "code",
   "execution_count": 14,
   "metadata": {},
   "outputs": [
    {
     "data": {
      "text/plain": [
       "pandas._libs.tslibs.timestamps.Timestamp"
      ]
     },
     "execution_count": 14,
     "metadata": {},
     "output_type": "execute_result"
    }
   ],
   "source": [
    "type(data['created_at'][0])"
   ]
  },
  {
   "cell_type": "code",
   "execution_count": 15,
   "metadata": {},
   "outputs": [
    {
     "data": {
      "text/plain": [
       "(Timestamp('2021-04-13 15:35:36'), Timestamp('2021-04-13 16:35:36'))"
      ]
     },
     "execution_count": 15,
     "metadata": {},
     "output_type": "execute_result"
    }
   ],
   "source": [
    "# Now I'm going to create a new column 'cycle_hour' with information about hour of testing cycle (from 1 to 6) in which error appeared\n",
    "start_date = data.loc[0, 'created_at']\n",
    "end_date = start_date + pd.DateOffset(hours=1)\n",
    "start_date, end_date"
   ]
  },
  {
   "cell_type": "code",
   "execution_count": 16,
   "metadata": {},
   "outputs": [],
   "source": [
    "for i in range(6):\n",
    "    data.loc[(data['created_at'] >= start_date + pd.DateOffset(hours=i)) & (data['created_at'] < end_date + pd.DateOffset(hours=i)), 'cycle_hour'] = i+1"
   ]
  },
  {
   "cell_type": "code",
   "execution_count": 17,
   "metadata": {},
   "outputs": [
    {
     "data": {
      "text/plain": [
       "0"
      ]
     },
     "execution_count": 17,
     "metadata": {},
     "output_type": "execute_result"
    }
   ],
   "source": [
    "# Drop rows if issue appeared after 6 hours.\n",
    "data.dropna(subset=['cycle_hour'], inplace=True)\n",
    "data['cycle_hour'].isnull().sum()"
   ]
  },
  {
   "cell_type": "code",
   "execution_count": 18,
   "metadata": {},
   "outputs": [
    {
     "data": {
      "text/html": [
       "<div>\n",
       "<style scoped>\n",
       "    .dataframe tbody tr th:only-of-type {\n",
       "        vertical-align: middle;\n",
       "    }\n",
       "\n",
       "    .dataframe tbody tr th {\n",
       "        vertical-align: top;\n",
       "    }\n",
       "\n",
       "    .dataframe thead th {\n",
       "        text-align: right;\n",
       "    }\n",
       "</style>\n",
       "<table border=\"1\" class=\"dataframe\">\n",
       "  <thead>\n",
       "    <tr style=\"text-align: right;\">\n",
       "      <th></th>\n",
       "      <th>issue_code_</th>\n",
       "      <th>created_at</th>\n",
       "      <th>severity</th>\n",
       "      <th>resolution</th>\n",
       "      <th>affected_components</th>\n",
       "      <th>creator_id</th>\n",
       "      <th>cycle_hour</th>\n",
       "    </tr>\n",
       "  </thead>\n",
       "  <tbody>\n",
       "    <tr>\n",
       "      <td>55</td>\n",
       "      <td>CYCLE-10-55</td>\n",
       "      <td>2021-04-13 16:38:39</td>\n",
       "      <td>High</td>\n",
       "      <td>Confirmed (S)</td>\n",
       "      <td>{Kit}</td>\n",
       "      <td>4693.0</td>\n",
       "      <td>2.0</td>\n",
       "    </tr>\n",
       "    <tr>\n",
       "      <td>62</td>\n",
       "      <td>CYCLE-10-63</td>\n",
       "      <td>2021-04-13 16:46:16</td>\n",
       "      <td>High</td>\n",
       "      <td>Confirmed (S)</td>\n",
       "      <td>{Workouts}</td>\n",
       "      <td>4075.0</td>\n",
       "      <td>2.0</td>\n",
       "    </tr>\n",
       "    <tr>\n",
       "      <td>60</td>\n",
       "      <td>CYCLE-10-61</td>\n",
       "      <td>2021-04-13 16:45:38</td>\n",
       "      <td>Medium</td>\n",
       "      <td>Confirmed (S)</td>\n",
       "      <td>{Meals}</td>\n",
       "      <td>3230.0</td>\n",
       "      <td>2.0</td>\n",
       "    </tr>\n",
       "    <tr>\n",
       "      <td>66</td>\n",
       "      <td>CYCLE-10-67</td>\n",
       "      <td>2021-04-13 17:02:25</td>\n",
       "      <td>High</td>\n",
       "      <td>Confirmed (S)</td>\n",
       "      <td>{Meals}</td>\n",
       "      <td>8124.0</td>\n",
       "      <td>2.0</td>\n",
       "    </tr>\n",
       "    <tr>\n",
       "      <td>48</td>\n",
       "      <td>CYCLE-10-49</td>\n",
       "      <td>2021-04-13 16:28:58</td>\n",
       "      <td>Low</td>\n",
       "      <td>Confirmed (S)</td>\n",
       "      <td>{Guides}</td>\n",
       "      <td>1066.0</td>\n",
       "      <td>1.0</td>\n",
       "    </tr>\n",
       "  </tbody>\n",
       "</table>\n",
       "</div>"
      ],
      "text/plain": [
       "    issue_code_          created_at severity     resolution  \\\n",
       "55  CYCLE-10-55 2021-04-13 16:38:39     High  Confirmed (S)   \n",
       "62  CYCLE-10-63 2021-04-13 16:46:16     High  Confirmed (S)   \n",
       "60  CYCLE-10-61 2021-04-13 16:45:38   Medium  Confirmed (S)   \n",
       "66  CYCLE-10-67 2021-04-13 17:02:25     High  Confirmed (S)   \n",
       "48  CYCLE-10-49 2021-04-13 16:28:58      Low  Confirmed (S)   \n",
       "\n",
       "   affected_components  creator_id  cycle_hour  \n",
       "55               {Kit}      4693.0         2.0  \n",
       "62          {Workouts}      4075.0         2.0  \n",
       "60             {Meals}      3230.0         2.0  \n",
       "66             {Meals}      8124.0         2.0  \n",
       "48            {Guides}      1066.0         1.0  "
      ]
     },
     "execution_count": 18,
     "metadata": {},
     "output_type": "execute_result"
    }
   ],
   "source": [
    "data.sample(5)"
   ]
  },
  {
   "cell_type": "code",
   "execution_count": 19,
   "metadata": {},
   "outputs": [],
   "source": [
    "confirmed_data = data[data['resolution'] == 'Confirmed (S)']"
   ]
  },
  {
   "cell_type": "code",
   "execution_count": 20,
   "metadata": {},
   "outputs": [
    {
     "data": {
      "text/plain": [
       "array([1., 2., 3., 4., 5., 6.])"
      ]
     },
     "execution_count": 20,
     "metadata": {},
     "output_type": "execute_result"
    }
   ],
   "source": [
    "confirmed_data['cycle_hour'].unique()"
   ]
  },
  {
   "cell_type": "code",
   "execution_count": 21,
   "metadata": {},
   "outputs": [
    {
     "data": {
      "text/html": [
       "<div>\n",
       "<style scoped>\n",
       "    .dataframe tbody tr th:only-of-type {\n",
       "        vertical-align: middle;\n",
       "    }\n",
       "\n",
       "    .dataframe tbody tr th {\n",
       "        vertical-align: top;\n",
       "    }\n",
       "\n",
       "    .dataframe thead th {\n",
       "        text-align: right;\n",
       "    }\n",
       "</style>\n",
       "<table border=\"1\" class=\"dataframe\">\n",
       "  <thead>\n",
       "    <tr style=\"text-align: right;\">\n",
       "      <th></th>\n",
       "      <th>cycle_hour</th>\n",
       "      <th>number_of_issues</th>\n",
       "    </tr>\n",
       "  </thead>\n",
       "  <tbody>\n",
       "    <tr>\n",
       "      <td>0</td>\n",
       "      <td>1.0</td>\n",
       "      <td>47</td>\n",
       "    </tr>\n",
       "    <tr>\n",
       "      <td>1</td>\n",
       "      <td>2.0</td>\n",
       "      <td>16</td>\n",
       "    </tr>\n",
       "    <tr>\n",
       "      <td>2</td>\n",
       "      <td>3.0</td>\n",
       "      <td>4</td>\n",
       "    </tr>\n",
       "    <tr>\n",
       "      <td>3</td>\n",
       "      <td>4.0</td>\n",
       "      <td>5</td>\n",
       "    </tr>\n",
       "    <tr>\n",
       "      <td>4</td>\n",
       "      <td>5.0</td>\n",
       "      <td>2</td>\n",
       "    </tr>\n",
       "    <tr>\n",
       "      <td>5</td>\n",
       "      <td>6.0</td>\n",
       "      <td>5</td>\n",
       "    </tr>\n",
       "  </tbody>\n",
       "</table>\n",
       "</div>"
      ],
      "text/plain": [
       "   cycle_hour  number_of_issues\n",
       "0         1.0                47\n",
       "1         2.0                16\n",
       "2         3.0                 4\n",
       "3         4.0                 5\n",
       "4         5.0                 2\n",
       "5         6.0                 5"
      ]
     },
     "execution_count": 21,
     "metadata": {},
     "output_type": "execute_result"
    }
   ],
   "source": [
    "confirmed_by_hours = (\n",
    "    confirmed_data\n",
    "    .groupby(['cycle_hour'])\n",
    "    ['issue_code_'].count()\n",
    "    .reset_index()\n",
    "    .rename(columns={'issue_code_': 'number_of_issues'})\n",
    "    \n",
    ")\n",
    "\n",
    "confirmed_by_hours"
   ]
  },
  {
   "cell_type": "code",
   "execution_count": 22,
   "metadata": {},
   "outputs": [
    {
     "data": {
      "image/png": "[encoded data removed]",
      "text/plain": [
       "<Figure size 720x432 with 1 Axes>"
      ]
     },
     "metadata": {
      "needs_background": "light"
     },
     "output_type": "display_data"
    }
   ],
   "source": [
    "# Plot1: number of issues in 6 hours after starting the testing cycle \n",
    "# We can see that most issues were confirmed in first hour of cycle.\n",
    "\n",
    "plt.figure(figsize=(10,6))\n",
    "plt.bar(confirmed_by_hours.cycle_hour, confirmed_by_hours.number_of_issues, width=0.35, align='center')\n",
    "plt.xlabel('Hour of cycle')\n",
    "plt.ylabel('Number of issues confirmed')\n",
    "plt.title('Number of issues confirmed in hour of cycle')\n",
    "plt.savefig('Issues per hour.pdf')\n",
    "plt.tight_layout()\n",
    "plt.show()"
   ]
  },
  {
   "cell_type": "code",
   "execution_count": 23,
   "metadata": {},
   "outputs": [
    {
     "data": {
      "text/html": [
       "<div>\n",
       "<style scoped>\n",
       "    .dataframe tbody tr th:only-of-type {\n",
       "        vertical-align: middle;\n",
       "    }\n",
       "\n",
       "    .dataframe tbody tr th {\n",
       "        vertical-align: top;\n",
       "    }\n",
       "\n",
       "    .dataframe thead th {\n",
       "        text-align: right;\n",
       "    }\n",
       "</style>\n",
       "<table border=\"1\" class=\"dataframe\">\n",
       "  <thead>\n",
       "    <tr style=\"text-align: right;\">\n",
       "      <th>severity</th>\n",
       "      <th>Critical</th>\n",
       "      <th>High</th>\n",
       "      <th>Low</th>\n",
       "      <th>Medium</th>\n",
       "    </tr>\n",
       "    <tr>\n",
       "      <th>cycle_hour</th>\n",
       "      <th></th>\n",
       "      <th></th>\n",
       "      <th></th>\n",
       "      <th></th>\n",
       "    </tr>\n",
       "  </thead>\n",
       "  <tbody>\n",
       "    <tr>\n",
       "      <td>1.0</td>\n",
       "      <td>3.0</td>\n",
       "      <td>12.0</td>\n",
       "      <td>17.0</td>\n",
       "      <td>15.0</td>\n",
       "    </tr>\n",
       "    <tr>\n",
       "      <td>2.0</td>\n",
       "      <td>1.0</td>\n",
       "      <td>5.0</td>\n",
       "      <td>3.0</td>\n",
       "      <td>7.0</td>\n",
       "    </tr>\n",
       "    <tr>\n",
       "      <td>3.0</td>\n",
       "      <td>0.0</td>\n",
       "      <td>2.0</td>\n",
       "      <td>1.0</td>\n",
       "      <td>1.0</td>\n",
       "    </tr>\n",
       "    <tr>\n",
       "      <td>4.0</td>\n",
       "      <td>0.0</td>\n",
       "      <td>2.0</td>\n",
       "      <td>1.0</td>\n",
       "      <td>2.0</td>\n",
       "    </tr>\n",
       "    <tr>\n",
       "      <td>5.0</td>\n",
       "      <td>0.0</td>\n",
       "      <td>0.0</td>\n",
       "      <td>0.0</td>\n",
       "      <td>2.0</td>\n",
       "    </tr>\n",
       "    <tr>\n",
       "      <td>6.0</td>\n",
       "      <td>0.0</td>\n",
       "      <td>1.0</td>\n",
       "      <td>1.0</td>\n",
       "      <td>3.0</td>\n",
       "    </tr>\n",
       "  </tbody>\n",
       "</table>\n",
       "</div>"
      ],
      "text/plain": [
       "severity    Critical  High   Low  Medium\n",
       "cycle_hour                              \n",
       "1.0              3.0  12.0  17.0    15.0\n",
       "2.0              1.0   5.0   3.0     7.0\n",
       "3.0              0.0   2.0   1.0     1.0\n",
       "4.0              0.0   2.0   1.0     2.0\n",
       "5.0              0.0   0.0   0.0     2.0\n",
       "6.0              0.0   1.0   1.0     3.0"
      ]
     },
     "execution_count": 23,
     "metadata": {},
     "output_type": "execute_result"
    }
   ],
   "source": [
    "severity_data = confirmed_data\n",
    "severity_data = severity_data.reset_index().groupby(['cycle_hour', 'severity'])['issue_code_'].aggregate('count').unstack()\n",
    "severity_data.fillna(0.0, inplace=True)\n",
    "severity_data"
   ]
  },
  {
   "cell_type": "code",
   "execution_count": 31,
   "metadata": {},
   "outputs": [
    {
     "data": {
      "image/png": "[encoded data removed]",
      "text/plain": [
       "<Figure size 864x468 with 1 Axes>"
      ]
     },
     "metadata": {
      "needs_background": "light"
     },
     "output_type": "display_data"
    }
   ],
   "source": [
    "# Plot2: number of issues in 6 hours after starting the testing cycle by severities\n",
    "# From this chart we can see that critical issues was confirmed fast, in first 2 hours of cycle.\n",
    "\n",
    "critical = np.array(severity_data['Critical'])\n",
    "high = np.array(severity_data['High'])\n",
    "medium = np.array(severity_data['Medium'])\n",
    "low = np.array(severity_data['Low'])\n",
    "\n",
    "x = np.arange(6)    \n",
    "width = 0.35       \n",
    "\n",
    "fig, ax = plt.subplots()\n",
    "fig.set_size_inches(12, 6.5)\n",
    "\n",
    "p1 = ax.bar(x, critical, width, label='Critical')\n",
    "p2 = ax.bar(x, high, width,bottom= critical, label='High')\n",
    "p3 = ax.bar(x, medium, width,bottom= critical + high, label='Medium')\n",
    "p4 = ax.bar(x, low, width, bottom= critical+ high + medium,\n",
    "             label='Low')\n",
    "\n",
    "\n",
    "ax.axhline(0, color='grey', linewidth=0.8)\n",
    "ax.set_ylabel('Number of issues')\n",
    "ax.set_xlabel('Hour of cycle')\n",
    "ax.set_title('Number of issues by hour of cycle and severity')\n",
    "ax.set_xticks(x)\n",
    "ax.set_xticklabels(['1', '2', '3', '4', '5', '6'])\n",
    "ax.legend()\n",
    "\n",
    "plt.tight_layout()\n",
    "plt.savefig('Issues by hour of cycle and severity.pdf')\n",
    "plt.show()"
   ]
  },
  {
   "cell_type": "code",
   "execution_count": 25,
   "metadata": {},
   "outputs": [
    {
     "data": {
      "text/plain": [
       "array(['{Signup}', '{Profile}', 'Profile', '{Content}', '{Challenge}',\n",
       "       '{Workouts}', '{Kit}', '{Guides}', '{Meals}', '{Settings}',\n",
       "       '{Login}'], dtype=object)"
      ]
     },
     "execution_count": 25,
     "metadata": {},
     "output_type": "execute_result"
    }
   ],
   "source": [
    "# Plot 3: number of issues by affected components\n",
    "# Preparing data\n",
    "\n",
    "confirmed_data['affected_components'].unique()"
   ]
  },
  {
   "cell_type": "code",
   "execution_count": 33,
   "metadata": {},
   "outputs": [
    {
     "data": {
      "text/plain": [
       "array(['{Signup}', '{Profile}', '{Content}', '{Challenge}', '{Workouts}',\n",
       "       '{Kit}', '{Guides}', '{Meals}', '{Settings}', '{Login}'],\n",
       "      dtype=object)"
      ]
     },
     "execution_count": 33,
     "metadata": {},
     "output_type": "execute_result"
    }
   ],
   "source": [
    "confirmed_data['affected_components'].replace({'Profile': '{Profile}'}, inplace=True)\n",
    "confirmed_data['affected_components'].unique()"
   ]
  },
  {
   "cell_type": "code",
   "execution_count": 27,
   "metadata": {},
   "outputs": [
    {
     "data": {
      "text/html": [
       "<div>\n",
       "<style scoped>\n",
       "    .dataframe tbody tr th:only-of-type {\n",
       "        vertical-align: middle;\n",
       "    }\n",
       "\n",
       "    .dataframe tbody tr th {\n",
       "        vertical-align: top;\n",
       "    }\n",
       "\n",
       "    .dataframe thead th {\n",
       "        text-align: right;\n",
       "    }\n",
       "</style>\n",
       "<table border=\"1\" class=\"dataframe\">\n",
       "  <thead>\n",
       "    <tr style=\"text-align: right;\">\n",
       "      <th></th>\n",
       "      <th>components</th>\n",
       "      <th>number_of_issues</th>\n",
       "    </tr>\n",
       "  </thead>\n",
       "  <tbody>\n",
       "    <tr>\n",
       "      <td>6</td>\n",
       "      <td>{Profile}</td>\n",
       "      <td>22</td>\n",
       "    </tr>\n",
       "    <tr>\n",
       "      <td>9</td>\n",
       "      <td>{Workouts}</td>\n",
       "      <td>19</td>\n",
       "    </tr>\n",
       "    <tr>\n",
       "      <td>8</td>\n",
       "      <td>{Signup}</td>\n",
       "      <td>14</td>\n",
       "    </tr>\n",
       "    <tr>\n",
       "      <td>1</td>\n",
       "      <td>{Content}</td>\n",
       "      <td>7</td>\n",
       "    </tr>\n",
       "    <tr>\n",
       "      <td>3</td>\n",
       "      <td>{Kit}</td>\n",
       "      <td>5</td>\n",
       "    </tr>\n",
       "    <tr>\n",
       "      <td>0</td>\n",
       "      <td>{Challenge}</td>\n",
       "      <td>4</td>\n",
       "    </tr>\n",
       "    <tr>\n",
       "      <td>2</td>\n",
       "      <td>{Guides}</td>\n",
       "      <td>3</td>\n",
       "    </tr>\n",
       "    <tr>\n",
       "      <td>5</td>\n",
       "      <td>{Meals}</td>\n",
       "      <td>3</td>\n",
       "    </tr>\n",
       "    <tr>\n",
       "      <td>4</td>\n",
       "      <td>{Login}</td>\n",
       "      <td>1</td>\n",
       "    </tr>\n",
       "    <tr>\n",
       "      <td>7</td>\n",
       "      <td>{Settings}</td>\n",
       "      <td>1</td>\n",
       "    </tr>\n",
       "  </tbody>\n",
       "</table>\n",
       "</div>"
      ],
      "text/plain": [
       "    components  number_of_issues\n",
       "6    {Profile}                22\n",
       "9   {Workouts}                19\n",
       "8     {Signup}                14\n",
       "1    {Content}                 7\n",
       "3        {Kit}                 5\n",
       "0  {Challenge}                 4\n",
       "2     {Guides}                 3\n",
       "5      {Meals}                 3\n",
       "4      {Login}                 1\n",
       "7   {Settings}                 1"
      ]
     },
     "execution_count": 27,
     "metadata": {},
     "output_type": "execute_result"
    }
   ],
   "source": [
    "affected_components = (\n",
    "    confirmed_data\n",
    "    .groupby(['affected_components'])\n",
    "    ['issue_code_'].count()\n",
    "    .reset_index()\n",
    "    .rename(columns={'issue_code_': 'number_of_issues', 'affected_components': 'components'})\n",
    "    .sort_values(by='number_of_issues', ascending=False)\n",
    ")\n",
    "affected_components"
   ]
  },
  {
   "cell_type": "code",
   "execution_count": 28,
   "metadata": {},
   "outputs": [
    {
     "data": {
      "image/png": "[encoded data removed]",
      "text/plain": [
       "<Figure size 864x468 with 1 Axes>"
      ]
     },
     "metadata": {
      "needs_background": "light"
     },
     "output_type": "display_data"
    }
   ],
   "source": [
    "# Creating plot\n",
    "# We can see which components was affected by significant amount of issues. This can indicate the parts of project to work on.\n",
    "\n",
    "plt.figure(figsize=(12,6.5))\n",
    "plt.bar(affected_components.components, affected_components.number_of_issues, width=0.35, align='center')\n",
    "plt.xlabel('Affected components')\n",
    "plt.ylabel('Number of issues')\n",
    "plt.title('Number of issues by affected components')\n",
    "plt.savefig('Number of issues by affected components.pdf')\n",
    "plt.tight_layout()\n",
    "plt.show()"
   ]
  },
  {
   "cell_type": "code",
   "execution_count": 29,
   "metadata": {},
   "outputs": [
    {
     "data": {
      "text/html": [
       "<div>\n",
       "<style scoped>\n",
       "    .dataframe tbody tr th:only-of-type {\n",
       "        vertical-align: middle;\n",
       "    }\n",
       "\n",
       "    .dataframe tbody tr th {\n",
       "        vertical-align: top;\n",
       "    }\n",
       "\n",
       "    .dataframe thead th {\n",
       "        text-align: right;\n",
       "    }\n",
       "</style>\n",
       "<table border=\"1\" class=\"dataframe\">\n",
       "  <thead>\n",
       "    <tr style=\"text-align: right;\">\n",
       "      <th>severity</th>\n",
       "      <th>Critical</th>\n",
       "      <th>High</th>\n",
       "      <th>Low</th>\n",
       "      <th>Medium</th>\n",
       "    </tr>\n",
       "    <tr>\n",
       "      <th>affected_components</th>\n",
       "      <th></th>\n",
       "      <th></th>\n",
       "      <th></th>\n",
       "      <th></th>\n",
       "    </tr>\n",
       "  </thead>\n",
       "  <tbody>\n",
       "    <tr>\n",
       "      <td>{Challenge}</td>\n",
       "      <td>0.0</td>\n",
       "      <td>1.0</td>\n",
       "      <td>0.0</td>\n",
       "      <td>3.0</td>\n",
       "    </tr>\n",
       "    <tr>\n",
       "      <td>{Content}</td>\n",
       "      <td>0.0</td>\n",
       "      <td>3.0</td>\n",
       "      <td>2.0</td>\n",
       "      <td>2.0</td>\n",
       "    </tr>\n",
       "    <tr>\n",
       "      <td>{Guides}</td>\n",
       "      <td>0.0</td>\n",
       "      <td>0.0</td>\n",
       "      <td>3.0</td>\n",
       "      <td>0.0</td>\n",
       "    </tr>\n",
       "    <tr>\n",
       "      <td>{Kit}</td>\n",
       "      <td>0.0</td>\n",
       "      <td>2.0</td>\n",
       "      <td>2.0</td>\n",
       "      <td>1.0</td>\n",
       "    </tr>\n",
       "    <tr>\n",
       "      <td>{Login}</td>\n",
       "      <td>0.0</td>\n",
       "      <td>1.0</td>\n",
       "      <td>0.0</td>\n",
       "      <td>0.0</td>\n",
       "    </tr>\n",
       "  </tbody>\n",
       "</table>\n",
       "</div>"
      ],
      "text/plain": [
       "severity             Critical  High  Low  Medium\n",
       "affected_components                             \n",
       "{Challenge}               0.0   1.0  0.0     3.0\n",
       "{Content}                 0.0   3.0  2.0     2.0\n",
       "{Guides}                  0.0   0.0  3.0     0.0\n",
       "{Kit}                     0.0   2.0  2.0     1.0\n",
       "{Login}                   0.0   1.0  0.0     0.0"
      ]
     },
     "execution_count": 29,
     "metadata": {},
     "output_type": "execute_result"
    }
   ],
   "source": [
    "# Prepare dataframe to show number of issues by affected components and severity\n",
    "severity_components = confirmed_data\n",
    "severity_components = severity_components.reset_index().groupby(['affected_components', 'severity'])['issue_code_'].aggregate('count').unstack()\n",
    "severity_components.fillna(0.0, inplace=True)\n",
    "severity_components.head()"
   ]
  },
  {
   "cell_type": "code",
   "execution_count": 30,
   "metadata": {},
   "outputs": [
    {
     "data": {
      "image/png": "[encoded data removed]",
      "text/plain": [
       "<Figure size 864x468 with 1 Axes>"
      ]
     },
     "metadata": {
      "needs_background": "light"
     },
     "output_type": "display_data"
    }
   ],
   "source": [
    "# Plot 4: number of issues by affected components and severity of issues\n",
    "# From this chart we can see which components are most vulnerable- affected by critical and high errors. This can help deciding \n",
    "# where to start working on project- which components are most important.\n",
    "\n",
    "critical = np.array(severity_components['Critical'])\n",
    "high = np.array(severity_components['High'])\n",
    "medium = np.array(severity_components['Medium'])\n",
    "low = np.array(severity_components['Low'])\n",
    "\n",
    "x = np.arange(10)    \n",
    "width = 0.35       \n",
    "\n",
    "fig, ax = plt.subplots()\n",
    "fig.set_size_inches(12, 6.5)\n",
    "\n",
    "p1 = ax.bar(x, critical, width, label='Critical')\n",
    "p2 = ax.bar(x, high, width,bottom= critical, label='High')\n",
    "p3 = ax.bar(x, medium, width,bottom= critical + high, label='Medium')\n",
    "p4 = ax.bar(x, low, width, bottom= critical+ high + medium,\n",
    "             label='Low')\n",
    "\n",
    "\n",
    "ax.axhline(0, color='grey', linewidth=0.8)\n",
    "ax.set_ylabel('Number of issues')\n",
    "ax.set_xlabel('Affected components')\n",
    "ax.set_title('Number of issues by affected components and severity')\n",
    "ax.set_xticks(x)\n",
    "ax.set_xticklabels(severity_components.index)\n",
    "ax.legend()\n",
    "\n",
    "plt.tight_layout()\n",
    "plt.savefig('Issues by affected components and severity.pdf')\n",
    "plt.show()"
   ]
  },
  {
   "cell_type": "code",
   "execution_count": null,
   "metadata": {},
   "outputs": [],
   "source": []
  }
 ],
 "metadata": {
  "kernelspec": {
   "display_name": "Python 3",
   "language": "python",
   "name": "python3"
  },
  "language_info": {
   "codemirror_mode": {
    "name": "ipython",
    "version": 3
   },
   "file_extension": ".py",
   "mimetype": "text/x-python",
   "name": "python",
   "nbconvert_exporter": "python",
   "pygments_lexer": "ipython3",
   "version": "3.7.4"
  }
 },
 "nbformat": 4,
 "nbformat_minor": 2
}
