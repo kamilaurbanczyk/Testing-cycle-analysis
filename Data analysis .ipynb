{
 "cells": [
  {
   "cell_type": "markdown",
   "metadata": {},
   "source": [
    "Stajesz przed nowym zadaniem, nowy product manager poprosił Cię o pomoc w obliczeniu i wizualizacji nowego KPI, który ma\n",
    "pomóc ulepszyć proces dostarczania rezultatów do klienta. Jego definicja to: Ilość zaakceptowanych błędów na godzinę w \n",
    "pierwszych 6-ciu godzinach od rozpoczęcia cyklu testowego. PM przekazał Ci, że dla uproszczenia jako początek cyklu testowego możesz uznać czas pierwszego zgłoszonego błędu. \n",
    "\n",
    "Jeżeli uda Ci się pokazać tą metrykę, PM napewno doceni analizę na tych danych - ponieważ on nie ma na to czasu.\n",
    "\n",
    "Stwórz widok pokazujący powyższą metryke i zaproponuj dodatkowe wykresy z które mogą być przydatne dla Product Manager'a."
   ]
  },
  {
   "cell_type": "code",
   "execution_count": 1,
   "metadata": {},
   "outputs": [],
   "source": [
    "import pandas as pd\n",
    "import seaborn as sns\n",
    "import matplotlib.pyplot as plt "
   ]
  },
  {
   "cell_type": "code",
   "execution_count": 33,
   "metadata": {},
   "outputs": [],
   "source": [
    "data = pd.read_csv('cycle_data.csv')"
   ]
  },
  {
   "cell_type": "code",
   "execution_count": 34,
   "metadata": {},
   "outputs": [
    {
     "data": {
      "text/html": [
       "<div>\n",
       "<style scoped>\n",
       "    .dataframe tbody tr th:only-of-type {\n",
       "        vertical-align: middle;\n",
       "    }\n",
       "\n",
       "    .dataframe tbody tr th {\n",
       "        vertical-align: top;\n",
       "    }\n",
       "\n",
       "    .dataframe thead th {\n",
       "        text-align: right;\n",
       "    }\n",
       "</style>\n",
       "<table border=\"1\" class=\"dataframe\">\n",
       "  <thead>\n",
       "    <tr style=\"text-align: right;\">\n",
       "      <th></th>\n",
       "      <th>issue_code_</th>\n",
       "      <th>created_at</th>\n",
       "      <th>severity</th>\n",
       "      <th>resolution</th>\n",
       "      <th>affected_components</th>\n",
       "      <th>creator_id</th>\n",
       "    </tr>\n",
       "  </thead>\n",
       "  <tbody>\n",
       "    <tr>\n",
       "      <td>38</td>\n",
       "      <td>CYCLE-10-39</td>\n",
       "      <td>13/04/2021 16:17:27</td>\n",
       "      <td>Medium</td>\n",
       "      <td>Confirmed (S)</td>\n",
       "      <td>{Workouts}</td>\n",
       "      <td>4075.0</td>\n",
       "    </tr>\n",
       "    <tr>\n",
       "      <td>84</td>\n",
       "      <td>CYCLE-10-85</td>\n",
       "      <td>13/04/2021 19:10:27</td>\n",
       "      <td>Medium</td>\n",
       "      <td>Confirmed (S)</td>\n",
       "      <td>{Challenge}</td>\n",
       "      <td>5271.0</td>\n",
       "    </tr>\n",
       "    <tr>\n",
       "      <td>16</td>\n",
       "      <td>CYCLE-10-17</td>\n",
       "      <td>13/04/2021 15:54:23</td>\n",
       "      <td>Low</td>\n",
       "      <td>Confirmed (S)</td>\n",
       "      <td>{Profile}</td>\n",
       "      <td>3230.0</td>\n",
       "    </tr>\n",
       "    <tr>\n",
       "      <td>41</td>\n",
       "      <td>CYCLE-10-42</td>\n",
       "      <td>13/04/2021 16:21:22</td>\n",
       "      <td>High</td>\n",
       "      <td>Confirmed (S)</td>\n",
       "      <td>{Signup}</td>\n",
       "      <td>6380.0</td>\n",
       "    </tr>\n",
       "    <tr>\n",
       "      <td>13</td>\n",
       "      <td>CYCLE-10-14</td>\n",
       "      <td>13/04/2021 15:51:06</td>\n",
       "      <td>Low</td>\n",
       "      <td>Confirmed (S)</td>\n",
       "      <td>{Profile}</td>\n",
       "      <td>3230.0</td>\n",
       "    </tr>\n",
       "    <tr>\n",
       "      <td>2</td>\n",
       "      <td>CYCLE-10-3</td>\n",
       "      <td>13/04/2021 15:41:28</td>\n",
       "      <td>Low</td>\n",
       "      <td>Confirmed (S)</td>\n",
       "      <td>{Signup}</td>\n",
       "      <td>1066.0</td>\n",
       "    </tr>\n",
       "    <tr>\n",
       "      <td>36</td>\n",
       "      <td>CYCLE-10-37</td>\n",
       "      <td>13/04/2021 16:14:44</td>\n",
       "      <td>High</td>\n",
       "      <td>Confirmed (S)</td>\n",
       "      <td>{Kit}</td>\n",
       "      <td>3230.0</td>\n",
       "    </tr>\n",
       "    <tr>\n",
       "      <td>35</td>\n",
       "      <td>CYCLE-10-36</td>\n",
       "      <td>13/04/2021 16:13:14</td>\n",
       "      <td>Low</td>\n",
       "      <td>Confirmed (S)</td>\n",
       "      <td>{Kit}</td>\n",
       "      <td>8124.0</td>\n",
       "    </tr>\n",
       "    <tr>\n",
       "      <td>80</td>\n",
       "      <td>CYCLE-10-81</td>\n",
       "      <td>13/04/2021 18:46:09</td>\n",
       "      <td>Medium</td>\n",
       "      <td>No tester response</td>\n",
       "      <td>{Profile}</td>\n",
       "      <td>6435.0</td>\n",
       "    </tr>\n",
       "    <tr>\n",
       "      <td>88</td>\n",
       "      <td>CYCLE-10-89</td>\n",
       "      <td>13/04/2021 20:08:18</td>\n",
       "      <td>Medium</td>\n",
       "      <td>Confirmed (S)</td>\n",
       "      <td>{Profile}</td>\n",
       "      <td>7594.0</td>\n",
       "    </tr>\n",
       "  </tbody>\n",
       "</table>\n",
       "</div>"
      ],
      "text/plain": [
       "    issue_code_           created_at severity          resolution  \\\n",
       "38  CYCLE-10-39  13/04/2021 16:17:27   Medium       Confirmed (S)   \n",
       "84  CYCLE-10-85  13/04/2021 19:10:27   Medium       Confirmed (S)   \n",
       "16  CYCLE-10-17  13/04/2021 15:54:23      Low       Confirmed (S)   \n",
       "41  CYCLE-10-42  13/04/2021 16:21:22     High       Confirmed (S)   \n",
       "13  CYCLE-10-14  13/04/2021 15:51:06      Low       Confirmed (S)   \n",
       "2    CYCLE-10-3  13/04/2021 15:41:28      Low       Confirmed (S)   \n",
       "36  CYCLE-10-37  13/04/2021 16:14:44     High       Confirmed (S)   \n",
       "35  CYCLE-10-36  13/04/2021 16:13:14      Low       Confirmed (S)   \n",
       "80  CYCLE-10-81  13/04/2021 18:46:09   Medium  No tester response   \n",
       "88  CYCLE-10-89  13/04/2021 20:08:18   Medium       Confirmed (S)   \n",
       "\n",
       "   affected_components  creator_id  \n",
       "38          {Workouts}      4075.0  \n",
       "84         {Challenge}      5271.0  \n",
       "16           {Profile}      3230.0  \n",
       "41            {Signup}      6380.0  \n",
       "13           {Profile}      3230.0  \n",
       "2             {Signup}      1066.0  \n",
       "36               {Kit}      3230.0  \n",
       "35               {Kit}      8124.0  \n",
       "80           {Profile}      6435.0  \n",
       "88           {Profile}      7594.0  "
      ]
     },
     "execution_count": 34,
     "metadata": {},
     "output_type": "execute_result"
    }
   ],
   "source": [
    "data.sample(10)"
   ]
  },
  {
   "cell_type": "code",
   "execution_count": 35,
   "metadata": {},
   "outputs": [
    {
     "data": {
      "text/plain": [
       "array(['Low', 'High', 'Medium', 'Critical'], dtype=object)"
      ]
     },
     "execution_count": 35,
     "metadata": {},
     "output_type": "execute_result"
    }
   ],
   "source": [
    "data.severity.unique()"
   ]
  },
  {
   "cell_type": "code",
   "execution_count": 36,
   "metadata": {},
   "outputs": [
    {
     "data": {
      "text/plain": [
       "array(['Confirmed (S)', 'Duplicate', 'Expected Behaviour',\n",
       "       'Confirmed (!)', 'Invalid - not tester error', 'Not in Scope',\n",
       "       'No tester response', 'Confirm (S)'], dtype=object)"
      ]
     },
     "execution_count": 36,
     "metadata": {},
     "output_type": "execute_result"
    }
   ],
   "source": [
    "data.resolution.unique()"
   ]
  },
  {
   "cell_type": "code",
   "execution_count": 37,
   "metadata": {},
   "outputs": [
    {
     "data": {
      "text/plain": [
       "array(['{Signup}', '{Profile}', 'Profile', '{Sign-up}', '{Content}',\n",
       "       '{Challenge}', '{Workouts}', '{Settings}', '{Kit}', '{Guides}',\n",
       "       '{Meals}', '{Login}'], dtype=object)"
      ]
     },
     "execution_count": 37,
     "metadata": {},
     "output_type": "execute_result"
    }
   ],
   "source": [
    "data.affected_components.unique()"
   ]
  },
  {
   "cell_type": "code",
   "execution_count": 38,
   "metadata": {},
   "outputs": [
    {
     "data": {
      "text/plain": [
       "array(['Confirmed (S)', 'Duplicate', 'Expected Behaviour',\n",
       "       'Invalid - not tester error', 'Not in Scope', 'No tester response'],\n",
       "      dtype=object)"
      ]
     },
     "execution_count": 38,
     "metadata": {},
     "output_type": "execute_result"
    }
   ],
   "source": [
    "# First step will be to clear the data.\n",
    "# I replace rows where resolution status is 'Confirmed (!)' and 'Confirm (S)' with status 'Confirmed (S)', because it's \n",
    "# the same category \n",
    "\n",
    "data[\"resolution\"].replace({\"Confirmed (!)\": \"Confirmed (S)\", \"Confirm (S)\": \"Confirmed (S)\"}, inplace=True)\n",
    "data.resolution.unique()"
   ]
  },
  {
   "cell_type": "code",
   "execution_count": 39,
   "metadata": {},
   "outputs": [
    {
     "data": {
      "text/plain": [
       "issue_code_            0\n",
       "created_at             1\n",
       "severity               0\n",
       "resolution             0\n",
       "affected_components    0\n",
       "creator_id             1\n",
       "dtype: int64"
      ]
     },
     "execution_count": 39,
     "metadata": {},
     "output_type": "execute_result"
    }
   ],
   "source": [
    "data.isnull().sum()"
   ]
  },
  {
   "cell_type": "code",
   "execution_count": 40,
   "metadata": {},
   "outputs": [
    {
     "data": {
      "text/plain": [
       "0"
      ]
     },
     "execution_count": 40,
     "metadata": {},
     "output_type": "execute_result"
    }
   ],
   "source": [
    "# Drop rows where NaN is in 'created_at' column, because we need this data to check if error was created within first \n",
    "# 6 hours of testing cycle.\n",
    "\n",
    "data.dropna(subset=['created_at'], inplace=True)\n",
    "data['created_at'].isnull().sum()"
   ]
  },
  {
   "cell_type": "code",
   "execution_count": 41,
   "metadata": {},
   "outputs": [
    {
     "data": {
      "text/html": [
       "<div>\n",
       "<style scoped>\n",
       "    .dataframe tbody tr th:only-of-type {\n",
       "        vertical-align: middle;\n",
       "    }\n",
       "\n",
       "    .dataframe tbody tr th {\n",
       "        vertical-align: top;\n",
       "    }\n",
       "\n",
       "    .dataframe thead th {\n",
       "        text-align: right;\n",
       "    }\n",
       "</style>\n",
       "<table border=\"1\" class=\"dataframe\">\n",
       "  <thead>\n",
       "    <tr style=\"text-align: right;\">\n",
       "      <th></th>\n",
       "      <th>issue_code_</th>\n",
       "      <th>created_at</th>\n",
       "      <th>severity</th>\n",
       "      <th>resolution</th>\n",
       "      <th>affected_components</th>\n",
       "      <th>creator_id</th>\n",
       "    </tr>\n",
       "  </thead>\n",
       "  <tbody>\n",
       "    <tr>\n",
       "      <td>0</td>\n",
       "      <td>CYCLE-10-1</td>\n",
       "      <td>13/04/2021 15:35:36</td>\n",
       "      <td>Low</td>\n",
       "      <td>Confirmed (S)</td>\n",
       "      <td>{Signup}</td>\n",
       "      <td>8124.0</td>\n",
       "    </tr>\n",
       "    <tr>\n",
       "      <td>1</td>\n",
       "      <td>CYCLE-10-2</td>\n",
       "      <td>13/04/2021 15:40:15</td>\n",
       "      <td>Low</td>\n",
       "      <td>Confirmed (S)</td>\n",
       "      <td>{Signup}</td>\n",
       "      <td>8124.0</td>\n",
       "    </tr>\n",
       "    <tr>\n",
       "      <td>2</td>\n",
       "      <td>CYCLE-10-3</td>\n",
       "      <td>13/04/2021 15:41:28</td>\n",
       "      <td>Low</td>\n",
       "      <td>Confirmed (S)</td>\n",
       "      <td>{Signup}</td>\n",
       "      <td>1066.0</td>\n",
       "    </tr>\n",
       "    <tr>\n",
       "      <td>3</td>\n",
       "      <td>CYCLE-10-4</td>\n",
       "      <td>13/04/2021 15:41:38</td>\n",
       "      <td>High</td>\n",
       "      <td>Confirmed (S)</td>\n",
       "      <td>{Signup}</td>\n",
       "      <td>4075.0</td>\n",
       "    </tr>\n",
       "    <tr>\n",
       "      <td>4</td>\n",
       "      <td>CYCLE-10-5</td>\n",
       "      <td>13/04/2021 15:43:07</td>\n",
       "      <td>Medium</td>\n",
       "      <td>Confirmed (S)</td>\n",
       "      <td>{Profile}</td>\n",
       "      <td>3230.0</td>\n",
       "    </tr>\n",
       "    <tr>\n",
       "      <td>5</td>\n",
       "      <td>CYCLE-10-6</td>\n",
       "      <td>13/04/2021 15:43:32</td>\n",
       "      <td>Low</td>\n",
       "      <td>Confirmed (S)</td>\n",
       "      <td>{Signup}</td>\n",
       "      <td>5271.0</td>\n",
       "    </tr>\n",
       "    <tr>\n",
       "      <td>6</td>\n",
       "      <td>CYCLE-10-7</td>\n",
       "      <td>13/04/2021 15:46:35</td>\n",
       "      <td>Low</td>\n",
       "      <td>Confirmed (S)</td>\n",
       "      <td>{Signup}</td>\n",
       "      <td>4693.0</td>\n",
       "    </tr>\n",
       "    <tr>\n",
       "      <td>7</td>\n",
       "      <td>CYCLE-10-8</td>\n",
       "      <td>13/04/2021 15:46:44</td>\n",
       "      <td>Medium</td>\n",
       "      <td>Confirmed (S)</td>\n",
       "      <td>Profile</td>\n",
       "      <td>8058.0</td>\n",
       "    </tr>\n",
       "    <tr>\n",
       "      <td>8</td>\n",
       "      <td>CYCLE-10-9</td>\n",
       "      <td>13/04/2021 15:46:53</td>\n",
       "      <td>High</td>\n",
       "      <td>Confirmed (S)</td>\n",
       "      <td>{Profile}</td>\n",
       "      <td>3230.0</td>\n",
       "    </tr>\n",
       "    <tr>\n",
       "      <td>9</td>\n",
       "      <td>CYCLE-10-10</td>\n",
       "      <td>13/04/2021 15:47:03</td>\n",
       "      <td>Low</td>\n",
       "      <td>Duplicate</td>\n",
       "      <td>{Signup}</td>\n",
       "      <td>1066.0</td>\n",
       "    </tr>\n",
       "  </tbody>\n",
       "</table>\n",
       "</div>"
      ],
      "text/plain": [
       "   issue_code_           created_at severity     resolution  \\\n",
       "0   CYCLE-10-1  13/04/2021 15:35:36      Low  Confirmed (S)   \n",
       "1   CYCLE-10-2  13/04/2021 15:40:15      Low  Confirmed (S)   \n",
       "2   CYCLE-10-3  13/04/2021 15:41:28      Low  Confirmed (S)   \n",
       "3   CYCLE-10-4  13/04/2021 15:41:38     High  Confirmed (S)   \n",
       "4   CYCLE-10-5  13/04/2021 15:43:07   Medium  Confirmed (S)   \n",
       "5   CYCLE-10-6  13/04/2021 15:43:32      Low  Confirmed (S)   \n",
       "6   CYCLE-10-7  13/04/2021 15:46:35      Low  Confirmed (S)   \n",
       "7   CYCLE-10-8  13/04/2021 15:46:44   Medium  Confirmed (S)   \n",
       "8   CYCLE-10-9  13/04/2021 15:46:53     High  Confirmed (S)   \n",
       "9  CYCLE-10-10  13/04/2021 15:47:03      Low      Duplicate   \n",
       "\n",
       "  affected_components  creator_id  \n",
       "0            {Signup}      8124.0  \n",
       "1            {Signup}      8124.0  \n",
       "2            {Signup}      1066.0  \n",
       "3            {Signup}      4075.0  \n",
       "4           {Profile}      3230.0  \n",
       "5            {Signup}      5271.0  \n",
       "6            {Signup}      4693.0  \n",
       "7             Profile      8058.0  \n",
       "8           {Profile}      3230.0  \n",
       "9            {Signup}      1066.0  "
      ]
     },
     "execution_count": 41,
     "metadata": {},
     "output_type": "execute_result"
    }
   ],
   "source": [
    "data.head(10)"
   ]
  },
  {
   "cell_type": "code",
   "execution_count": 46,
   "metadata": {},
   "outputs": [],
   "source": [
    "cycle_start = data.head(1)['created_at'][0]"
   ]
  },
  {
   "cell_type": "code",
   "execution_count": 49,
   "metadata": {},
   "outputs": [
    {
     "data": {
      "text/plain": [
       "pandas.core.series.Series"
      ]
     },
     "execution_count": 49,
     "metadata": {},
     "output_type": "execute_result"
    }
   ],
   "source": [
    "type(data.head(1)['created_at'])"
   ]
  },
  {
   "cell_type": "code",
   "execution_count": null,
   "metadata": {},
   "outputs": [],
   "source": []
  }
 ],
 "metadata": {
  "kernelspec": {
   "display_name": "Python 3",
   "language": "python",
   "name": "python3"
  },
  "language_info": {
   "codemirror_mode": {
    "name": "ipython",
    "version": 3
   },
   "file_extension": ".py",
   "mimetype": "text/x-python",
   "name": "python",
   "nbconvert_exporter": "python",
   "pygments_lexer": "ipython3",
   "version": "3.7.4"
  }
 },
 "nbformat": 4,
 "nbformat_minor": 2
}
