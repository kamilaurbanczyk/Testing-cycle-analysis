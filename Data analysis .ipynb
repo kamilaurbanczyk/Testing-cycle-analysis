{
 "cells": [
  {
   "cell_type": "markdown",
   "metadata": {},
   "source": [
    "Stajesz przed nowym zadaniem, nowy product manager poprosił Cię o pomoc w obliczeniu i wizualizacji nowego KPI, który ma\n",
    "pomóc ulepszyć proces dostarczania rezultatów do klienta. Jego definicja to: Ilość zaakceptowanych błędów na godzinę w \n",
    "pierwszych 6-ciu godzinach od rozpoczęcia cyklu testowego. PM przekazał Ci, że dla uproszczenia jako początek cyklu testowego możesz uznać czas pierwszego zgłoszonego błędu. \n",
    "\n",
    "Jeżeli uda Ci się pokazać tą metrykę, PM napewno doceni analizę na tych danych - ponieważ on nie ma na to czasu.\n",
    "\n",
    "Stwórz widok pokazujący powyższą metryke i zaproponuj dodatkowe wykresy z które mogą być przydatne dla Product Manager'a."
   ]
  },
  {
   "cell_type": "code",
   "execution_count": 1,
   "metadata": {},
   "outputs": [],
   "source": [
    "import pandas as pd\n",
    "import seaborn as sns\n",
    "import matplotlib.pyplot as plt "
   ]
  },
  {
   "cell_type": "code",
   "execution_count": 81,
   "metadata": {},
   "outputs": [],
   "source": [
    "data = pd.read_csv('cycle_data.csv')"
   ]
  },
  {
   "cell_type": "code",
   "execution_count": 3,
   "metadata": {},
   "outputs": [
    {
     "data": {
      "text/html": [
       "<div>\n",
       "<style scoped>\n",
       "    .dataframe tbody tr th:only-of-type {\n",
       "        vertical-align: middle;\n",
       "    }\n",
       "\n",
       "    .dataframe tbody tr th {\n",
       "        vertical-align: top;\n",
       "    }\n",
       "\n",
       "    .dataframe thead th {\n",
       "        text-align: right;\n",
       "    }\n",
       "</style>\n",
       "<table border=\"1\" class=\"dataframe\">\n",
       "  <thead>\n",
       "    <tr style=\"text-align: right;\">\n",
       "      <th></th>\n",
       "      <th>issue_code_</th>\n",
       "      <th>created_at</th>\n",
       "      <th>severity</th>\n",
       "      <th>resolution</th>\n",
       "      <th>affected_components</th>\n",
       "      <th>creator_id</th>\n",
       "    </tr>\n",
       "  </thead>\n",
       "  <tbody>\n",
       "    <tr>\n",
       "      <td>68</td>\n",
       "      <td>CYCLE-10-69</td>\n",
       "      <td>13/04/2021 17:04:33</td>\n",
       "      <td>High</td>\n",
       "      <td>Confirmed (S)</td>\n",
       "      <td>{Content}</td>\n",
       "      <td>1120.0</td>\n",
       "    </tr>\n",
       "    <tr>\n",
       "      <td>29</td>\n",
       "      <td>CYCLE-10-30</td>\n",
       "      <td>13/04/2021 16:05:45</td>\n",
       "      <td>Low</td>\n",
       "      <td>Confirmed (S)</td>\n",
       "      <td>{Workouts}</td>\n",
       "      <td>8124.0</td>\n",
       "    </tr>\n",
       "    <tr>\n",
       "      <td>69</td>\n",
       "      <td>CYCLE-10-70</td>\n",
       "      <td>13/04/2021 17:07:06</td>\n",
       "      <td>Low</td>\n",
       "      <td>Confirmed (S)</td>\n",
       "      <td>{Workouts}</td>\n",
       "      <td>5271.0</td>\n",
       "    </tr>\n",
       "    <tr>\n",
       "      <td>26</td>\n",
       "      <td>CYCLE-10-27</td>\n",
       "      <td>13/04/2021 16:03:13</td>\n",
       "      <td>High</td>\n",
       "      <td>Confirmed (S)</td>\n",
       "      <td>{Profile}</td>\n",
       "      <td>4075.0</td>\n",
       "    </tr>\n",
       "    <tr>\n",
       "      <td>19</td>\n",
       "      <td>CYCLE-10-20</td>\n",
       "      <td>13/04/2021 15:58:32</td>\n",
       "      <td>Medium</td>\n",
       "      <td>Confirmed (S)</td>\n",
       "      <td>{Profile}</td>\n",
       "      <td>3230.0</td>\n",
       "    </tr>\n",
       "    <tr>\n",
       "      <td>6</td>\n",
       "      <td>CYCLE-10-7</td>\n",
       "      <td>13/04/2021 15:46:35</td>\n",
       "      <td>Low</td>\n",
       "      <td>Confirmed (S)</td>\n",
       "      <td>{Signup}</td>\n",
       "      <td>4693.0</td>\n",
       "    </tr>\n",
       "    <tr>\n",
       "      <td>7</td>\n",
       "      <td>CYCLE-10-8</td>\n",
       "      <td>13/04/2021 15:46:44</td>\n",
       "      <td>Medium</td>\n",
       "      <td>Confirmed (S)</td>\n",
       "      <td>Profile</td>\n",
       "      <td>8058.0</td>\n",
       "    </tr>\n",
       "    <tr>\n",
       "      <td>32</td>\n",
       "      <td>CYCLE-10-33</td>\n",
       "      <td>13/04/2021 16:09:21</td>\n",
       "      <td>High</td>\n",
       "      <td>Confirmed (S)</td>\n",
       "      <td>{Content}</td>\n",
       "      <td>4693.0</td>\n",
       "    </tr>\n",
       "    <tr>\n",
       "      <td>66</td>\n",
       "      <td>CYCLE-10-67</td>\n",
       "      <td>13/04/2021 17:02:25</td>\n",
       "      <td>High</td>\n",
       "      <td>Confirmed (S)</td>\n",
       "      <td>{Meals}</td>\n",
       "      <td>8124.0</td>\n",
       "    </tr>\n",
       "    <tr>\n",
       "      <td>38</td>\n",
       "      <td>CYCLE-10-39</td>\n",
       "      <td>13/04/2021 16:17:27</td>\n",
       "      <td>Medium</td>\n",
       "      <td>Confirmed (S)</td>\n",
       "      <td>{Workouts}</td>\n",
       "      <td>4075.0</td>\n",
       "    </tr>\n",
       "  </tbody>\n",
       "</table>\n",
       "</div>"
      ],
      "text/plain": [
       "    issue_code_           created_at severity     resolution  \\\n",
       "68  CYCLE-10-69  13/04/2021 17:04:33     High  Confirmed (S)   \n",
       "29  CYCLE-10-30  13/04/2021 16:05:45      Low  Confirmed (S)   \n",
       "69  CYCLE-10-70  13/04/2021 17:07:06      Low  Confirmed (S)   \n",
       "26  CYCLE-10-27  13/04/2021 16:03:13     High  Confirmed (S)   \n",
       "19  CYCLE-10-20  13/04/2021 15:58:32   Medium  Confirmed (S)   \n",
       "6    CYCLE-10-7  13/04/2021 15:46:35      Low  Confirmed (S)   \n",
       "7    CYCLE-10-8  13/04/2021 15:46:44   Medium  Confirmed (S)   \n",
       "32  CYCLE-10-33  13/04/2021 16:09:21     High  Confirmed (S)   \n",
       "66  CYCLE-10-67  13/04/2021 17:02:25     High  Confirmed (S)   \n",
       "38  CYCLE-10-39  13/04/2021 16:17:27   Medium  Confirmed (S)   \n",
       "\n",
       "   affected_components  creator_id  \n",
       "68           {Content}      1120.0  \n",
       "29          {Workouts}      8124.0  \n",
       "69          {Workouts}      5271.0  \n",
       "26           {Profile}      4075.0  \n",
       "19           {Profile}      3230.0  \n",
       "6             {Signup}      4693.0  \n",
       "7              Profile      8058.0  \n",
       "32           {Content}      4693.0  \n",
       "66             {Meals}      8124.0  \n",
       "38          {Workouts}      4075.0  "
      ]
     },
     "execution_count": 3,
     "metadata": {},
     "output_type": "execute_result"
    }
   ],
   "source": [
    "data.sample(10)"
   ]
  },
  {
   "cell_type": "code",
   "execution_count": 4,
   "metadata": {},
   "outputs": [
    {
     "data": {
      "text/plain": [
       "array(['Low', 'High', 'Medium', 'Critical'], dtype=object)"
      ]
     },
     "execution_count": 4,
     "metadata": {},
     "output_type": "execute_result"
    }
   ],
   "source": [
    "data.severity.unique()"
   ]
  },
  {
   "cell_type": "code",
   "execution_count": 5,
   "metadata": {},
   "outputs": [
    {
     "data": {
      "text/plain": [
       "array(['Confirmed (S)', 'Duplicate', 'Expected Behaviour',\n",
       "       'Confirmed (!)', 'Invalid - not tester error', 'Not in Scope',\n",
       "       'No tester response', 'Confirm (S)'], dtype=object)"
      ]
     },
     "execution_count": 5,
     "metadata": {},
     "output_type": "execute_result"
    }
   ],
   "source": [
    "data.resolution.unique()"
   ]
  },
  {
   "cell_type": "code",
   "execution_count": 6,
   "metadata": {},
   "outputs": [
    {
     "data": {
      "text/plain": [
       "array(['{Signup}', '{Profile}', 'Profile', '{Sign-up}', '{Content}',\n",
       "       '{Challenge}', '{Workouts}', '{Settings}', '{Kit}', '{Guides}',\n",
       "       '{Meals}', '{Login}'], dtype=object)"
      ]
     },
     "execution_count": 6,
     "metadata": {},
     "output_type": "execute_result"
    }
   ],
   "source": [
    "data.affected_components.unique()"
   ]
  },
  {
   "cell_type": "code",
   "execution_count": 82,
   "metadata": {},
   "outputs": [
    {
     "data": {
      "text/plain": [
       "array(['Confirmed (S)', 'Duplicate', 'Expected Behaviour',\n",
       "       'Invalid - not tester error', 'Not in Scope', 'No tester response'],\n",
       "      dtype=object)"
      ]
     },
     "execution_count": 82,
     "metadata": {},
     "output_type": "execute_result"
    }
   ],
   "source": [
    "# First step will be to clear the data.\n",
    "# I replace rows where resolution status is 'Confirmed (!)' and 'Confirm (S)' with status 'Confirmed (S)', because it's \n",
    "# the same category \n",
    "\n",
    "data[\"resolution\"].replace({\"Confirmed (!)\": \"Confirmed (S)\", \"Confirm (S)\": \"Confirmed (S)\"}, inplace=True)\n",
    "data.resolution.unique()"
   ]
  },
  {
   "cell_type": "code",
   "execution_count": 8,
   "metadata": {},
   "outputs": [
    {
     "data": {
      "text/plain": [
       "issue_code_            0\n",
       "created_at             1\n",
       "severity               0\n",
       "resolution             0\n",
       "affected_components    0\n",
       "creator_id             1\n",
       "dtype: int64"
      ]
     },
     "execution_count": 8,
     "metadata": {},
     "output_type": "execute_result"
    }
   ],
   "source": [
    "data.isnull().sum()"
   ]
  },
  {
   "cell_type": "code",
   "execution_count": 83,
   "metadata": {},
   "outputs": [
    {
     "data": {
      "text/plain": [
       "0"
      ]
     },
     "execution_count": 83,
     "metadata": {},
     "output_type": "execute_result"
    }
   ],
   "source": [
    "# Drop rows where NaN is in 'created_at' column, because we need this data to check if error was created within first \n",
    "# 6 hours of testing cycle.\n",
    "\n",
    "data.dropna(subset=['created_at'], inplace=True)\n",
    "data['created_at'].isnull().sum()"
   ]
  },
  {
   "cell_type": "code",
   "execution_count": 10,
   "metadata": {},
   "outputs": [
    {
     "data": {
      "text/html": [
       "<div>\n",
       "<style scoped>\n",
       "    .dataframe tbody tr th:only-of-type {\n",
       "        vertical-align: middle;\n",
       "    }\n",
       "\n",
       "    .dataframe tbody tr th {\n",
       "        vertical-align: top;\n",
       "    }\n",
       "\n",
       "    .dataframe thead th {\n",
       "        text-align: right;\n",
       "    }\n",
       "</style>\n",
       "<table border=\"1\" class=\"dataframe\">\n",
       "  <thead>\n",
       "    <tr style=\"text-align: right;\">\n",
       "      <th></th>\n",
       "      <th>issue_code_</th>\n",
       "      <th>created_at</th>\n",
       "      <th>severity</th>\n",
       "      <th>resolution</th>\n",
       "      <th>affected_components</th>\n",
       "      <th>creator_id</th>\n",
       "    </tr>\n",
       "  </thead>\n",
       "  <tbody>\n",
       "    <tr>\n",
       "      <td>0</td>\n",
       "      <td>CYCLE-10-1</td>\n",
       "      <td>13/04/2021 15:35:36</td>\n",
       "      <td>Low</td>\n",
       "      <td>Confirmed (S)</td>\n",
       "      <td>{Signup}</td>\n",
       "      <td>8124.0</td>\n",
       "    </tr>\n",
       "    <tr>\n",
       "      <td>1</td>\n",
       "      <td>CYCLE-10-2</td>\n",
       "      <td>13/04/2021 15:40:15</td>\n",
       "      <td>Low</td>\n",
       "      <td>Confirmed (S)</td>\n",
       "      <td>{Signup}</td>\n",
       "      <td>8124.0</td>\n",
       "    </tr>\n",
       "    <tr>\n",
       "      <td>2</td>\n",
       "      <td>CYCLE-10-3</td>\n",
       "      <td>13/04/2021 15:41:28</td>\n",
       "      <td>Low</td>\n",
       "      <td>Confirmed (S)</td>\n",
       "      <td>{Signup}</td>\n",
       "      <td>1066.0</td>\n",
       "    </tr>\n",
       "    <tr>\n",
       "      <td>3</td>\n",
       "      <td>CYCLE-10-4</td>\n",
       "      <td>13/04/2021 15:41:38</td>\n",
       "      <td>High</td>\n",
       "      <td>Confirmed (S)</td>\n",
       "      <td>{Signup}</td>\n",
       "      <td>4075.0</td>\n",
       "    </tr>\n",
       "    <tr>\n",
       "      <td>4</td>\n",
       "      <td>CYCLE-10-5</td>\n",
       "      <td>13/04/2021 15:43:07</td>\n",
       "      <td>Medium</td>\n",
       "      <td>Confirmed (S)</td>\n",
       "      <td>{Profile}</td>\n",
       "      <td>3230.0</td>\n",
       "    </tr>\n",
       "    <tr>\n",
       "      <td>5</td>\n",
       "      <td>CYCLE-10-6</td>\n",
       "      <td>13/04/2021 15:43:32</td>\n",
       "      <td>Low</td>\n",
       "      <td>Confirmed (S)</td>\n",
       "      <td>{Signup}</td>\n",
       "      <td>5271.0</td>\n",
       "    </tr>\n",
       "    <tr>\n",
       "      <td>6</td>\n",
       "      <td>CYCLE-10-7</td>\n",
       "      <td>13/04/2021 15:46:35</td>\n",
       "      <td>Low</td>\n",
       "      <td>Confirmed (S)</td>\n",
       "      <td>{Signup}</td>\n",
       "      <td>4693.0</td>\n",
       "    </tr>\n",
       "    <tr>\n",
       "      <td>7</td>\n",
       "      <td>CYCLE-10-8</td>\n",
       "      <td>13/04/2021 15:46:44</td>\n",
       "      <td>Medium</td>\n",
       "      <td>Confirmed (S)</td>\n",
       "      <td>Profile</td>\n",
       "      <td>8058.0</td>\n",
       "    </tr>\n",
       "    <tr>\n",
       "      <td>8</td>\n",
       "      <td>CYCLE-10-9</td>\n",
       "      <td>13/04/2021 15:46:53</td>\n",
       "      <td>High</td>\n",
       "      <td>Confirmed (S)</td>\n",
       "      <td>{Profile}</td>\n",
       "      <td>3230.0</td>\n",
       "    </tr>\n",
       "    <tr>\n",
       "      <td>9</td>\n",
       "      <td>CYCLE-10-10</td>\n",
       "      <td>13/04/2021 15:47:03</td>\n",
       "      <td>Low</td>\n",
       "      <td>Duplicate</td>\n",
       "      <td>{Signup}</td>\n",
       "      <td>1066.0</td>\n",
       "    </tr>\n",
       "  </tbody>\n",
       "</table>\n",
       "</div>"
      ],
      "text/plain": [
       "   issue_code_           created_at severity     resolution  \\\n",
       "0   CYCLE-10-1  13/04/2021 15:35:36      Low  Confirmed (S)   \n",
       "1   CYCLE-10-2  13/04/2021 15:40:15      Low  Confirmed (S)   \n",
       "2   CYCLE-10-3  13/04/2021 15:41:28      Low  Confirmed (S)   \n",
       "3   CYCLE-10-4  13/04/2021 15:41:38     High  Confirmed (S)   \n",
       "4   CYCLE-10-5  13/04/2021 15:43:07   Medium  Confirmed (S)   \n",
       "5   CYCLE-10-6  13/04/2021 15:43:32      Low  Confirmed (S)   \n",
       "6   CYCLE-10-7  13/04/2021 15:46:35      Low  Confirmed (S)   \n",
       "7   CYCLE-10-8  13/04/2021 15:46:44   Medium  Confirmed (S)   \n",
       "8   CYCLE-10-9  13/04/2021 15:46:53     High  Confirmed (S)   \n",
       "9  CYCLE-10-10  13/04/2021 15:47:03      Low      Duplicate   \n",
       "\n",
       "  affected_components  creator_id  \n",
       "0            {Signup}      8124.0  \n",
       "1            {Signup}      8124.0  \n",
       "2            {Signup}      1066.0  \n",
       "3            {Signup}      4075.0  \n",
       "4           {Profile}      3230.0  \n",
       "5            {Signup}      5271.0  \n",
       "6            {Signup}      4693.0  \n",
       "7             Profile      8058.0  \n",
       "8           {Profile}      3230.0  \n",
       "9            {Signup}      1066.0  "
      ]
     },
     "execution_count": 10,
     "metadata": {},
     "output_type": "execute_result"
    }
   ],
   "source": [
    "data.head(10)"
   ]
  },
  {
   "cell_type": "code",
   "execution_count": 11,
   "metadata": {},
   "outputs": [
    {
     "data": {
      "text/plain": [
       "str"
      ]
     },
     "execution_count": 11,
     "metadata": {},
     "output_type": "execute_result"
    }
   ],
   "source": [
    "type(data['created_at'][0])"
   ]
  },
  {
   "cell_type": "code",
   "execution_count": 84,
   "metadata": {},
   "outputs": [
    {
     "data": {
      "text/html": [
       "<div>\n",
       "<style scoped>\n",
       "    .dataframe tbody tr th:only-of-type {\n",
       "        vertical-align: middle;\n",
       "    }\n",
       "\n",
       "    .dataframe tbody tr th {\n",
       "        vertical-align: top;\n",
       "    }\n",
       "\n",
       "    .dataframe thead th {\n",
       "        text-align: right;\n",
       "    }\n",
       "</style>\n",
       "<table border=\"1\" class=\"dataframe\">\n",
       "  <thead>\n",
       "    <tr style=\"text-align: right;\">\n",
       "      <th></th>\n",
       "      <th>issue_code_</th>\n",
       "      <th>created_at</th>\n",
       "      <th>severity</th>\n",
       "      <th>resolution</th>\n",
       "      <th>affected_components</th>\n",
       "      <th>creator_id</th>\n",
       "    </tr>\n",
       "  </thead>\n",
       "  <tbody>\n",
       "    <tr>\n",
       "      <td>44</td>\n",
       "      <td>CYCLE-10-45</td>\n",
       "      <td>04/13/2021 16:25:40</td>\n",
       "      <td>High</td>\n",
       "      <td>Confirmed (S)</td>\n",
       "      <td>{Workouts}</td>\n",
       "      <td>4693.0</td>\n",
       "    </tr>\n",
       "  </tbody>\n",
       "</table>\n",
       "</div>"
      ],
      "text/plain": [
       "    issue_code_           created_at severity     resolution  \\\n",
       "44  CYCLE-10-45  04/13/2021 16:25:40     High  Confirmed (S)   \n",
       "\n",
       "   affected_components  creator_id  \n",
       "44          {Workouts}      4693.0  "
      ]
     },
     "execution_count": 84,
     "metadata": {},
     "output_type": "execute_result"
    }
   ],
   "source": [
    "# I want to change data type in column \"created_at\" to datetime \n",
    "# There is an error appearing because of wrong format in one row, so I'm going to change this\n",
    "\n",
    "data[data['created_at'] == '04/13/2021 16:25:40']"
   ]
  },
  {
   "cell_type": "code",
   "execution_count": 85,
   "metadata": {},
   "outputs": [
    {
     "data": {
      "text/plain": [
       "'13/04/2021 16:25:40'"
      ]
     },
     "execution_count": 85,
     "metadata": {},
     "output_type": "execute_result"
    }
   ],
   "source": [
    "data.at[44, 'created_at'] = '13/04/2021 16:25:40'\n",
    "data.loc[44, 'created_at']"
   ]
  },
  {
   "cell_type": "code",
   "execution_count": 86,
   "metadata": {},
   "outputs": [],
   "source": [
    "# Change format \n",
    "data['created_at'] = pd.to_datetime(data['created_at'], format='%d/%m/%Y %H:%M:%S')"
   ]
  },
  {
   "cell_type": "code",
   "execution_count": 15,
   "metadata": {},
   "outputs": [
    {
     "data": {
      "text/plain": [
       "pandas._libs.tslibs.timestamps.Timestamp"
      ]
     },
     "execution_count": 15,
     "metadata": {},
     "output_type": "execute_result"
    }
   ],
   "source": [
    "type(data['created_at'][0])"
   ]
  },
  {
   "cell_type": "code",
   "execution_count": 16,
   "metadata": {},
   "outputs": [
    {
     "data": {
      "text/html": [
       "<div>\n",
       "<style scoped>\n",
       "    .dataframe tbody tr th:only-of-type {\n",
       "        vertical-align: middle;\n",
       "    }\n",
       "\n",
       "    .dataframe tbody tr th {\n",
       "        vertical-align: top;\n",
       "    }\n",
       "\n",
       "    .dataframe thead th {\n",
       "        text-align: right;\n",
       "    }\n",
       "</style>\n",
       "<table border=\"1\" class=\"dataframe\">\n",
       "  <thead>\n",
       "    <tr style=\"text-align: right;\">\n",
       "      <th></th>\n",
       "      <th>issue_code_</th>\n",
       "      <th>created_at</th>\n",
       "      <th>severity</th>\n",
       "      <th>resolution</th>\n",
       "      <th>affected_components</th>\n",
       "      <th>creator_id</th>\n",
       "    </tr>\n",
       "  </thead>\n",
       "  <tbody>\n",
       "    <tr>\n",
       "      <td>0</td>\n",
       "      <td>CYCLE-10-1</td>\n",
       "      <td>2021-04-13 15:35:36</td>\n",
       "      <td>Low</td>\n",
       "      <td>Confirmed (S)</td>\n",
       "      <td>{Signup}</td>\n",
       "      <td>8124.0</td>\n",
       "    </tr>\n",
       "    <tr>\n",
       "      <td>1</td>\n",
       "      <td>CYCLE-10-2</td>\n",
       "      <td>2021-04-13 15:40:15</td>\n",
       "      <td>Low</td>\n",
       "      <td>Confirmed (S)</td>\n",
       "      <td>{Signup}</td>\n",
       "      <td>8124.0</td>\n",
       "    </tr>\n",
       "    <tr>\n",
       "      <td>2</td>\n",
       "      <td>CYCLE-10-3</td>\n",
       "      <td>2021-04-13 15:41:28</td>\n",
       "      <td>Low</td>\n",
       "      <td>Confirmed (S)</td>\n",
       "      <td>{Signup}</td>\n",
       "      <td>1066.0</td>\n",
       "    </tr>\n",
       "    <tr>\n",
       "      <td>3</td>\n",
       "      <td>CYCLE-10-4</td>\n",
       "      <td>2021-04-13 15:41:38</td>\n",
       "      <td>High</td>\n",
       "      <td>Confirmed (S)</td>\n",
       "      <td>{Signup}</td>\n",
       "      <td>4075.0</td>\n",
       "    </tr>\n",
       "    <tr>\n",
       "      <td>4</td>\n",
       "      <td>CYCLE-10-5</td>\n",
       "      <td>2021-04-13 15:43:07</td>\n",
       "      <td>Medium</td>\n",
       "      <td>Confirmed (S)</td>\n",
       "      <td>{Profile}</td>\n",
       "      <td>3230.0</td>\n",
       "    </tr>\n",
       "  </tbody>\n",
       "</table>\n",
       "</div>"
      ],
      "text/plain": [
       "  issue_code_          created_at severity     resolution affected_components  \\\n",
       "0  CYCLE-10-1 2021-04-13 15:35:36      Low  Confirmed (S)            {Signup}   \n",
       "1  CYCLE-10-2 2021-04-13 15:40:15      Low  Confirmed (S)            {Signup}   \n",
       "2  CYCLE-10-3 2021-04-13 15:41:28      Low  Confirmed (S)            {Signup}   \n",
       "3  CYCLE-10-4 2021-04-13 15:41:38     High  Confirmed (S)            {Signup}   \n",
       "4  CYCLE-10-5 2021-04-13 15:43:07   Medium  Confirmed (S)           {Profile}   \n",
       "\n",
       "   creator_id  \n",
       "0      8124.0  \n",
       "1      8124.0  \n",
       "2      1066.0  \n",
       "3      4075.0  \n",
       "4      3230.0  "
      ]
     },
     "execution_count": 16,
     "metadata": {},
     "output_type": "execute_result"
    }
   ],
   "source": [
    "data.head()"
   ]
  },
  {
   "cell_type": "code",
   "execution_count": 87,
   "metadata": {},
   "outputs": [
    {
     "data": {
      "text/plain": [
       "(Timestamp('2021-04-13 15:35:36'), Timestamp('2021-04-13 16:35:36'))"
      ]
     },
     "execution_count": 87,
     "metadata": {},
     "output_type": "execute_result"
    }
   ],
   "source": [
    "# Now I'm going to create a new column 'cycle_hour' with information about hour of testing cycle (from 1 to 6) in which error appeared\n",
    "start_date = data.loc[0, 'created_at']\n",
    "end_date = start_date + pd.DateOffset(hours=1)\n",
    "start_date, end_date"
   ]
  },
  {
   "cell_type": "code",
   "execution_count": 88,
   "metadata": {},
   "outputs": [],
   "source": [
    "for i in range(6):\n",
    "    data.loc[(data['created_at'] >= start_date + pd.DateOffset(hours=i)) & (data['created_at'] < end_date + pd.DateOffset(hours=i)), 'cycle_hour'] = i+1"
   ]
  },
  {
   "cell_type": "code",
   "execution_count": 89,
   "metadata": {},
   "outputs": [
    {
     "data": {
      "text/plain": [
       "0"
      ]
     },
     "execution_count": 89,
     "metadata": {},
     "output_type": "execute_result"
    }
   ],
   "source": [
    "# Drop rows if issue appeared after 6 hours.\n",
    "data.dropna(subset=['cycle_hour'], inplace=True)\n",
    "data['cycle_hour'].isnull().sum()"
   ]
  },
  {
   "cell_type": "code",
   "execution_count": 90,
   "metadata": {},
   "outputs": [
    {
     "data": {
      "text/plain": [
       "array([1., 2., 3., 4., 5., 6.])"
      ]
     },
     "execution_count": 90,
     "metadata": {},
     "output_type": "execute_result"
    }
   ],
   "source": [
    "data['cycle_hour'].unique()"
   ]
  },
  {
   "cell_type": "code",
   "execution_count": 104,
   "metadata": {},
   "outputs": [],
   "source": [
    "confirmed_data = data[data['resolution'] == 'Confirmed (S)']"
   ]
  },
  {
   "cell_type": "code",
   "execution_count": 105,
   "metadata": {},
   "outputs": [
    {
     "data": {
      "text/plain": [
       "array([1., 2., 3., 4., 5., 6.])"
      ]
     },
     "execution_count": 105,
     "metadata": {},
     "output_type": "execute_result"
    }
   ],
   "source": [
    "confirmed_data['cycle_hour'].unique()"
   ]
  },
  {
   "cell_type": "code",
   "execution_count": 116,
   "metadata": {},
   "outputs": [
    {
     "data": {
      "text/html": [
       "<div>\n",
       "<style scoped>\n",
       "    .dataframe tbody tr th:only-of-type {\n",
       "        vertical-align: middle;\n",
       "    }\n",
       "\n",
       "    .dataframe tbody tr th {\n",
       "        vertical-align: top;\n",
       "    }\n",
       "\n",
       "    .dataframe thead th {\n",
       "        text-align: right;\n",
       "    }\n",
       "</style>\n",
       "<table border=\"1\" class=\"dataframe\">\n",
       "  <thead>\n",
       "    <tr style=\"text-align: right;\">\n",
       "      <th></th>\n",
       "      <th>cycle_hour</th>\n",
       "      <th>number of issues</th>\n",
       "    </tr>\n",
       "  </thead>\n",
       "  <tbody>\n",
       "    <tr>\n",
       "      <td>0</td>\n",
       "      <td>1.0</td>\n",
       "      <td>47</td>\n",
       "    </tr>\n",
       "    <tr>\n",
       "      <td>1</td>\n",
       "      <td>2.0</td>\n",
       "      <td>16</td>\n",
       "    </tr>\n",
       "    <tr>\n",
       "      <td>2</td>\n",
       "      <td>3.0</td>\n",
       "      <td>4</td>\n",
       "    </tr>\n",
       "    <tr>\n",
       "      <td>3</td>\n",
       "      <td>4.0</td>\n",
       "      <td>5</td>\n",
       "    </tr>\n",
       "    <tr>\n",
       "      <td>4</td>\n",
       "      <td>5.0</td>\n",
       "      <td>2</td>\n",
       "    </tr>\n",
       "    <tr>\n",
       "      <td>5</td>\n",
       "      <td>6.0</td>\n",
       "      <td>5</td>\n",
       "    </tr>\n",
       "  </tbody>\n",
       "</table>\n",
       "</div>"
      ],
      "text/plain": [
       "   cycle_hour  number of issues\n",
       "0         1.0                47\n",
       "1         2.0                16\n",
       "2         3.0                 4\n",
       "3         4.0                 5\n",
       "4         5.0                 2\n",
       "5         6.0                 5"
      ]
     },
     "execution_count": 116,
     "metadata": {},
     "output_type": "execute_result"
    }
   ],
   "source": [
    "confirmed_by_hours = (\n",
    "    confirmed_data\n",
    "    .groupby(['cycle_hour'])\n",
    "    ['issue_code_'].count()\n",
    "    .reset_index()\n",
    "    .rename(columns={'issue_code_': 'number of issues'})\n",
    "    \n",
    ")\n",
    "\n",
    "confirmed_by_hours"
   ]
  },
  {
   "cell_type": "code",
   "execution_count": null,
   "metadata": {},
   "outputs": [],
   "source": [
    "# Plot o"
   ]
  },
  {
   "cell_type": "code",
   "execution_count": 115,
   "metadata": {},
   "outputs": [
    {
     "data": {
      "text/html": [
       "<div>\n",
       "<style scoped>\n",
       "    .dataframe tbody tr th:only-of-type {\n",
       "        vertical-align: middle;\n",
       "    }\n",
       "\n",
       "    .dataframe tbody tr th {\n",
       "        vertical-align: top;\n",
       "    }\n",
       "\n",
       "    .dataframe thead th {\n",
       "        text-align: right;\n",
       "    }\n",
       "</style>\n",
       "<table border=\"1\" class=\"dataframe\">\n",
       "  <thead>\n",
       "    <tr style=\"text-align: right;\">\n",
       "      <th></th>\n",
       "      <th>cycle_hour</th>\n",
       "      <th>severity</th>\n",
       "      <th>number of issues</th>\n",
       "    </tr>\n",
       "  </thead>\n",
       "  <tbody>\n",
       "    <tr>\n",
       "      <td>0</td>\n",
       "      <td>1.0</td>\n",
       "      <td>Critical</td>\n",
       "      <td>3</td>\n",
       "    </tr>\n",
       "    <tr>\n",
       "      <td>1</td>\n",
       "      <td>1.0</td>\n",
       "      <td>High</td>\n",
       "      <td>12</td>\n",
       "    </tr>\n",
       "    <tr>\n",
       "      <td>2</td>\n",
       "      <td>1.0</td>\n",
       "      <td>Low</td>\n",
       "      <td>17</td>\n",
       "    </tr>\n",
       "    <tr>\n",
       "      <td>3</td>\n",
       "      <td>1.0</td>\n",
       "      <td>Medium</td>\n",
       "      <td>15</td>\n",
       "    </tr>\n",
       "    <tr>\n",
       "      <td>4</td>\n",
       "      <td>2.0</td>\n",
       "      <td>Critical</td>\n",
       "      <td>1</td>\n",
       "    </tr>\n",
       "    <tr>\n",
       "      <td>5</td>\n",
       "      <td>2.0</td>\n",
       "      <td>High</td>\n",
       "      <td>5</td>\n",
       "    </tr>\n",
       "    <tr>\n",
       "      <td>6</td>\n",
       "      <td>2.0</td>\n",
       "      <td>Low</td>\n",
       "      <td>3</td>\n",
       "    </tr>\n",
       "    <tr>\n",
       "      <td>7</td>\n",
       "      <td>2.0</td>\n",
       "      <td>Medium</td>\n",
       "      <td>7</td>\n",
       "    </tr>\n",
       "    <tr>\n",
       "      <td>8</td>\n",
       "      <td>3.0</td>\n",
       "      <td>High</td>\n",
       "      <td>2</td>\n",
       "    </tr>\n",
       "    <tr>\n",
       "      <td>9</td>\n",
       "      <td>3.0</td>\n",
       "      <td>Low</td>\n",
       "      <td>1</td>\n",
       "    </tr>\n",
       "    <tr>\n",
       "      <td>10</td>\n",
       "      <td>3.0</td>\n",
       "      <td>Medium</td>\n",
       "      <td>1</td>\n",
       "    </tr>\n",
       "    <tr>\n",
       "      <td>11</td>\n",
       "      <td>4.0</td>\n",
       "      <td>High</td>\n",
       "      <td>2</td>\n",
       "    </tr>\n",
       "    <tr>\n",
       "      <td>12</td>\n",
       "      <td>4.0</td>\n",
       "      <td>Low</td>\n",
       "      <td>1</td>\n",
       "    </tr>\n",
       "    <tr>\n",
       "      <td>13</td>\n",
       "      <td>4.0</td>\n",
       "      <td>Medium</td>\n",
       "      <td>2</td>\n",
       "    </tr>\n",
       "    <tr>\n",
       "      <td>14</td>\n",
       "      <td>5.0</td>\n",
       "      <td>Medium</td>\n",
       "      <td>2</td>\n",
       "    </tr>\n",
       "    <tr>\n",
       "      <td>15</td>\n",
       "      <td>6.0</td>\n",
       "      <td>High</td>\n",
       "      <td>1</td>\n",
       "    </tr>\n",
       "    <tr>\n",
       "      <td>16</td>\n",
       "      <td>6.0</td>\n",
       "      <td>Low</td>\n",
       "      <td>1</td>\n",
       "    </tr>\n",
       "    <tr>\n",
       "      <td>17</td>\n",
       "      <td>6.0</td>\n",
       "      <td>Medium</td>\n",
       "      <td>3</td>\n",
       "    </tr>\n",
       "  </tbody>\n",
       "</table>\n",
       "</div>"
      ],
      "text/plain": [
       "    cycle_hour  severity  number of issues\n",
       "0          1.0  Critical                 3\n",
       "1          1.0      High                12\n",
       "2          1.0       Low                17\n",
       "3          1.0    Medium                15\n",
       "4          2.0  Critical                 1\n",
       "5          2.0      High                 5\n",
       "6          2.0       Low                 3\n",
       "7          2.0    Medium                 7\n",
       "8          3.0      High                 2\n",
       "9          3.0       Low                 1\n",
       "10         3.0    Medium                 1\n",
       "11         4.0      High                 2\n",
       "12         4.0       Low                 1\n",
       "13         4.0    Medium                 2\n",
       "14         5.0    Medium                 2\n",
       "15         6.0      High                 1\n",
       "16         6.0       Low                 1\n",
       "17         6.0    Medium                 3"
      ]
     },
     "execution_count": 115,
     "metadata": {},
     "output_type": "execute_result"
    }
   ],
   "source": [
    "confirmed_by_hours_severity = (\n",
    "    confirmed_data\n",
    "    .groupby(['cycle_hour', 'severity'])\n",
    "    ['issue_code_'].count()\n",
    "    .reset_index()\n",
    "    .rename(columns={'issue_code_': 'number of issues'})\n",
    "    \n",
    ")\n",
    "\n",
    "confirmed_by_hours_severity"
   ]
  },
  {
   "cell_type": "code",
   "execution_count": null,
   "metadata": {},
   "outputs": [],
   "source": []
  },
  {
   "cell_type": "code",
   "execution_count": null,
   "metadata": {},
   "outputs": [],
   "source": []
  }
 ],
 "metadata": {
  "kernelspec": {
   "display_name": "Python 3",
   "language": "python",
   "name": "python3"
  },
  "language_info": {
   "codemirror_mode": {
    "name": "ipython",
    "version": 3
   },
   "file_extension": ".py",
   "mimetype": "text/x-python",
   "name": "python",
   "nbconvert_exporter": "python",
   "pygments_lexer": "ipython3",
   "version": "3.7.4"
  }
 },
 "nbformat": 4,
 "nbformat_minor": 2
}
